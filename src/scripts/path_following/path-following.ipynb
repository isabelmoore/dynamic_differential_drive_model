{
 "cells": [
  {
   "cell_type": "markdown",
   "id": "4a90feff",
   "metadata": {},
   "source": [
    "# Path Tracking\n",
    "## Pure Pursuit\n",
    "<img src=pp.png />\n",
    "\n",
    "$A$ is anchor point  \n",
    "$T$ is target, or lookahead, point  \n",
    "$\\kappa$ is curvature  \n",
    "$R$ is radius of curvature  \n",
    "$\\eta$ is relative bearing, or yaw error  \n",
    "$d$ is lookahead distance  \n",
    "$ICR$ is instant center of rotation\n",
    "\n",
    "### Notes\n",
    "- anchor point\n",
    "    - at center of rear axle for bicycle model\n",
    "    - at center of vehicle for differential-drive model\n",
    "- curvature can be converted to vehicle control input\n",
    "    - steering angle for bicycle model\n",
    "    - yaw rate given velocity for differential-drive model\n",
    "\n",
    "### Bicycle Model\n",
    "<img src=bm.png />\n",
    "\n",
    "$$\n",
    "\\delta = \\tan^{-1}(\\kappa L)\n",
    "$$\n",
    "\n",
    "$\\delta$ is steering angle  \n",
    "$L$ is wheelbase\n",
    "\n",
    "### Differential-Drive Model\n",
    "<img src=dd_curvature.png />\n",
    "\n",
    "$$\n",
    "\\dot{\\theta} = \\kappa v\n",
    "$$\n",
    "\n",
    "$\\theta$ is yaw  \n",
    "$v$ is velocity"
   ]
  },
  {
   "cell_type": "code",
   "execution_count": null,
   "id": "65a839c6",
   "metadata": {},
   "outputs": [],
   "source": []
  }
 ],
 "metadata": {
  "kernelspec": {
   "display_name": "Python 3 (ipykernel)",
   "language": "python",
   "name": "python3"
  },
  "language_info": {
   "codemirror_mode": {
    "name": "ipython",
    "version": 3
   },
   "file_extension": ".py",
   "mimetype": "text/x-python",
   "name": "python",
   "nbconvert_exporter": "python",
   "pygments_lexer": "ipython3",
   "version": "3.8.10"
  }
 },
 "nbformat": 4,
 "nbformat_minor": 5
}
